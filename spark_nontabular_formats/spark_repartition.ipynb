{
 "cells": [
  {
   "cell_type": "code",
   "execution_count": 1,
   "id": "italian-twist",
   "metadata": {},
   "outputs": [
    {
     "name": "stdout",
     "output_type": "stream",
     "text": [
      "Defaulting to user installation because normal site-packages is not writeable\n",
      "Requirement already satisfied: pyspark in /Library/Frameworks/Python.framework/Versions/3.9/lib/python3.9/site-packages (3.0.1)\n",
      "Requirement already satisfied: py4j==0.10.9 in /Library/Frameworks/Python.framework/Versions/3.9/lib/python3.9/site-packages (from pyspark) (0.10.9)\n",
      "\u001b[33mWARNING: You are using pip version 20.3.3; however, version 21.3.1 is available.\n",
      "You should consider upgrading via the '/Library/Frameworks/Python.framework/Versions/3.9/bin/python3.9 -m pip install --upgrade pip' command.\u001b[0m\n"
     ]
    }
   ],
   "source": [
    "!pip3 install pyspark"
   ]
  },
  {
   "cell_type": "code",
   "execution_count": 2,
   "id": "fleet-administration",
   "metadata": {},
   "outputs": [],
   "source": [
    "from pyspark.sql import SparkSession"
   ]
  },
  {
   "cell_type": "code",
   "execution_count": 3,
   "id": "connected-ability",
   "metadata": {},
   "outputs": [],
   "source": [
    "spark = SparkSession.builder.getOrCreate()"
   ]
  },
  {
   "cell_type": "code",
   "execution_count": 4,
   "id": "welcome-ontario",
   "metadata": {},
   "outputs": [
    {
     "data": {
      "text/plain": [
       "[[Row(id=4, name='D', partition_id=2),\n",
       "  Row(id=5, name='E', partition_id=2),\n",
       "  Row(id=6, name='F', partition_id=2),\n",
       "  Row(id=7, name='G', partition_id=3),\n",
       "  Row(id=8, name='H', partition_id=3),\n",
       "  Row(id=9, name='I', partition_id=3)],\n",
       " [Row(id=1, name='A', partition_id=1),\n",
       "  Row(id=2, name='B', partition_id=1),\n",
       "  Row(id=3, name='C', partition_id=1)],\n",
       " []]"
      ]
     },
     "execution_count": 4,
     "metadata": {},
     "output_type": "execute_result"
    }
   ],
   "source": [
    "from pyspark.sql import types as T\n",
    "\n",
    "schema = T.StructType([\n",
    "    T.StructField(\"id\", T.IntegerType(), False),\n",
    "    T.StructField(\"name\", T.StringType(), False),\n",
    "    T.StructField(\"partition_id\", T.IntegerType(), False)\n",
    "])\n",
    "\n",
    "data = [\n",
    "    (1, \"A\", 1),\n",
    "    (2, \"B\", 1),\n",
    "    (3, \"C\", 1),\n",
    "    (4, \"D\", 2),\n",
    "    (5, \"E\", 2),\n",
    "    (6, \"F\", 2),\n",
    "    (7, \"G\", 3),\n",
    "    (8, \"H\", 3),\n",
    "    (9, \"I\", 3)\n",
    "]\n",
    "\n",
    "(spark\n",
    " .createDataFrame(data, schema)\n",
    " .repartition(3, \"partition_id\")\n",
    " .rdd\n",
    " .glom()\n",
    " .collect())"
   ]
  },
  {
   "cell_type": "code",
   "execution_count": 5,
   "id": "acknowledged-childhood",
   "metadata": {},
   "outputs": [
    {
     "data": {
      "text/plain": [
       "[[(3, Row(id=7, name='G', partition_id=3)),\n",
       "  (3, Row(id=8, name='H', partition_id=3)),\n",
       "  (3, Row(id=9, name='I', partition_id=3))],\n",
       " [(1, Row(id=1, name='A', partition_id=1)),\n",
       "  (1, Row(id=2, name='B', partition_id=1)),\n",
       "  (1, Row(id=3, name='C', partition_id=1))],\n",
       " [(2, Row(id=4, name='D', partition_id=2)),\n",
       "  (2, Row(id=5, name='E', partition_id=2)),\n",
       "  (2, Row(id=6, name='F', partition_id=2))]]"
      ]
     },
     "execution_count": 5,
     "metadata": {},
     "output_type": "execute_result"
    }
   ],
   "source": [
    "(spark\n",
    " .createDataFrame(data, schema)\n",
    " .rdd\n",
    " .keyBy(lambda x: x.partition_id)\n",
    " .partitionBy(3, int)\n",
    " .glom()\n",
    " .collect())"
   ]
  },
  {
   "cell_type": "code",
   "execution_count": null,
   "id": "fifth-defeat",
   "metadata": {},
   "outputs": [],
   "source": []
  }
 ],
 "metadata": {
  "kernelspec": {
   "display_name": "Python 3",
   "language": "python",
   "name": "python3"
  },
  "language_info": {
   "codemirror_mode": {
    "name": "ipython",
    "version": 3
   },
   "file_extension": ".py",
   "mimetype": "text/x-python",
   "name": "python",
   "nbconvert_exporter": "python",
   "pygments_lexer": "ipython3",
   "version": "3.9.1"
  }
 },
 "nbformat": 4,
 "nbformat_minor": 5
}
